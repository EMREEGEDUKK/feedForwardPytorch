{
 "cells": [
  {
   "cell_type": "code",
   "execution_count": 1,
   "metadata": {},
   "outputs": [],
   "source": [
    "import torch\n"
   ]
  },
  {
   "cell_type": "code",
   "execution_count": 2,
   "metadata": {},
   "outputs": [
    {
     "name": "stdout",
     "output_type": "stream",
     "text": [
      "tensor([[0.0498],\n",
      "        [0.0075]])\n"
     ]
    }
   ],
   "source": [
    "torch.manual_seed(1)\n",
    "\n",
    "x = torch.tensor([[1, 2, 3], [4, 5, 6]], dtype=torch.float)\n",
    "\n",
    "inputSize = x.shape[1]\n",
    "hiddenSize = 50\n",
    "outputSize = 1\n",
    "\n",
    "w1 = torch.randn(inputSize, hiddenSize, dtype=torch.float)\n",
    "b1 = torch.randn(hiddenSize, dtype=torch.float)\n",
    "w2 = torch.randn(hiddenSize, outputSize, dtype=torch.float)\n",
    "b2 = torch.randn(outputSize, dtype=torch.float)\n",
    "\n",
    "def tanh(x):\n",
    "    return (torch.exp(x) - torch.exp(-x)) / (torch.exp(x) + torch.exp(-x))\n",
    "\n",
    "def sigmoid(x):\n",
    "    return 1 / (1 + torch.exp(-x))\n",
    "\n",
    "hiddenInput = torch.matmul(x, w1) + b1\n",
    "hiddenOutput = tanh(hiddenInput)\n",
    "outputInput = torch.matmul(hiddenOutput, w2) + b2\n",
    "output = sigmoid(outputInput)\n",
    "\n",
    "print(output)\n",
    "\n"
   ]
  },
  {
   "cell_type": "code",
   "execution_count": 4,
   "metadata": {},
   "outputs": [
    {
     "name": "stdout",
     "output_type": "stream",
     "text": [
      "tensor([[0.0105],\n",
      "        [0.0001]])\n"
     ]
    }
   ],
   "source": [
    "torch.manual_seed(190401070)\n",
    "\n",
    "\n",
    "x = torch.tensor([[1, 2, 3], [4, 5, 6]], dtype=torch.float)\n",
    "\n",
    "inputSize = x.shape[1]\n",
    "hiddenSize = 50\n",
    "outputSize = 1\n",
    "\n",
    "w1 = torch.randn(inputSize, hiddenSize, dtype=torch.float)\n",
    "b1 = torch.randn(hiddenSize, dtype=torch.float)\n",
    "w2 = torch.randn(hiddenSize, outputSize, dtype=torch.float)\n",
    "b2 = torch.randn(outputSize, dtype=torch.float)\n",
    "\n",
    "def tanh(x):\n",
    "    return (torch.exp(x) - torch.exp(-x)) / (torch.exp(x) + torch.exp(-x))\n",
    "\n",
    "def sigmoid(x):\n",
    "    return 1 / (1 + torch.exp(-x))\n",
    "\n",
    "hiddenInput = torch.matmul(x, w1) + b1\n",
    "hiddenOutput = tanh(hiddenInput)\n",
    "outputInput = torch.matmul(hiddenOutput, w2) + b2\n",
    "output = sigmoid(outputInput)\n",
    "\n",
    "print(output)"
   ]
  }
 ],
 "metadata": {
  "kernelspec": {
   "display_name": "Python 3",
   "language": "python",
   "name": "python3"
  },
  "language_info": {
   "codemirror_mode": {
    "name": "ipython",
    "version": 3
   },
   "file_extension": ".py",
   "mimetype": "text/x-python",
   "name": "python",
   "nbconvert_exporter": "python",
   "pygments_lexer": "ipython3",
   "version": "3.11.0"
  },
  "orig_nbformat": 4
 },
 "nbformat": 4,
 "nbformat_minor": 2
}
